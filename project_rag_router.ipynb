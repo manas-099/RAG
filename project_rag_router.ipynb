{
  "cells": [
    {
      "cell_type": "markdown",
      "metadata": {
        "id": "1Vb5yt0ri0ds"
      },
      "source": []
    },
    {
      "cell_type": "code",
      "execution_count": 1,
      "metadata": {
        "id": "_Zejr3Z0ivbE"
      },
      "outputs": [],
      "source": [
        "%%capture\n",
        "!pip install langchain langchain_groq langchain_community faiss-cpu"
      ]
    },
    {
      "cell_type": "code",
      "execution_count": 2,
      "metadata": {
        "id": "oMLqacQZi7YO"
      },
      "outputs": [],
      "source": [
        "import os\n",
        "os.environ[\"GROQ_API_KEY\"]=\"\""
      ]
    },
    {
      "cell_type": "code",
      "execution_count": 3,
      "metadata": {
        "id": "hGGHsLi8jAop"
      },
      "outputs": [],
      "source": [
        "from langchain.utils.math import cosine_similarity\n",
        "from langchain_core.output_parsers import StrOutputParser\n",
        "from langchain_core.prompts import PromptTemplate,ChatPromptTemplate\n",
        "from langchain_core.runnables import RunnableLambda, RunnablePassthrough\n",
        "from langchain_community.embeddings import HuggingFaceBgeEmbeddings\n",
        "from langchain_groq import ChatGroq\n",
        "\n",
        "physis_teacher=\"\"\"\n",
        "You are an Excelent physis teacher who has many year of expertise in this physis subject.\n",
        "\n",
        "You can give ans to very complex question in detail and concise way but first give the direct answer then give explanation .\n",
        "generate ans for this question:\n",
        "{query}\n",
        "\n",
        "\"\"\"\n",
        "math_teacher=\"\"\"\n",
        "You are an Excelent math teacher who has many year of expertise in this math subject.\n",
        "You are so good because you are able to break down hard problems into their component parts, \\\n",
        "answer the component parts, and then put them together to answer the broader question first give the direct ans then explain how this comes.\n",
        "here is the question:\n",
        "{query}\n",
        "\n",
        "\"\"\"\n",
        "bio_teacher=\"\"\"\n",
        "You are an Excelent Biology teacher who has many year of expertise in this biology subject.\n",
        "You can give ans to very complex question in detail and concise way first give the direct answer in 30 to 40 words then give the explanation.\n",
        "here is the question:\n",
        "{query}\n",
        "\"\"\"\n",
        "programming_teacher = \"\"\"\n",
        "You are an excellent programming teacher with many years of expertise.\n",
        "You can give answers to very complex questions in a detailed and concise way.\n",
        "First, give the direct answer in 30 to 40 words, then give the explanation.\n",
        "Here is the question:\n",
        "{query}\n",
        "\"\"\""
      ]
    },
    {
      "cell_type": "code",
      "execution_count": 4,
      "metadata": {
        "colab": {
          "base_uri": "https://localhost:8080/",
          "height": 528,
          "referenced_widgets": [
            "610337d5129c418cb76d3fbb23c63fe6",
            "332b2bcb8e334bf39dd0e2d011c2c199",
            "329c2f1efb9443e698c891aec2be537f",
            "f859d68cfec242cba013431f3b22e915",
            "47881a1db4754bafa56ebc2d1ceac4d3",
            "dd64a0e59bf74bcd967d409d97d36565",
            "5df41c4dc7494b618f4555ef943c345c",
            "6784490a7ee041e7b3ae8a602514bf97",
            "b9bb1931ea0f43ae980e3122b7af4e94",
            "c05a2566c54847379180652eea663179",
            "38a5ffdae18841b89cc04582fcc3fc35",
            "c281e8f460e243eebaaaf60b380b1b2d",
            "1ac67508d2344806afe03a94cc409a34",
            "3e830f03a3c341bdb573d7fc3c738696",
            "94804f3814944f0caf84e6d50cc37426",
            "a1fc84717275486093c63d629d23d315",
            "98952353cf694815a70c34bbc6326861",
            "2821c3b68d9f4d92ba48a1c3e9d85131",
            "001142b34ced4b779d46989c3f226de3",
            "8199622309f14fce901ad2061dfda8b5",
            "50e34dbfcc734833a4e8032c524028ac",
            "d6d293976a9d44a2b58dc49029a20cdc",
            "5992bc03c7334629ab35aa4043e1b835",
            "00d46520cb304ae8af47ae830810e7ab",
            "63786b2768394df9853a08088d06268e",
            "c3d53a59f78d4ad286319e50e6a76f31",
            "730d59748c3248c588139f8bc9627fb2",
            "b34b752161904424ae233ff95e59a1dd",
            "6d2b3e56523e451ebdb6497f371915ec",
            "544ffaf57afd4008a8475a8cc22c89f9",
            "f7da54535f6145feacd7b3b0de454883",
            "865ff9732aea4494afd875cd68567cf3",
            "ca5c4f0e76ed47feb636615e07475161",
            "72d3b81380784c7ba974348c00c29809",
            "039291d92d4441c3bffc97b022285c80",
            "8dff39f74a9b4fffb6ab839076bece54",
            "3ca7bd802099461f82f4d831dcf542b0",
            "1e7cffc7f6d943bd849c3fff61be100a",
            "18c7c66110864528901e2a9a52de2200",
            "6e2022e20b954ee7a0a7afb5ad11ee61",
            "3f87f1b1be7342b58244035a024ce9a0",
            "e01fbb4d087e435db7d01f5a964a19e6",
            "21429b647f0946d5bf10a6d41306a384",
            "bea356ab303b407b8ad4cc1423a8d7cb",
            "8443ffb764234743a677a3d8c3af38b2",
            "f44a52ef46e64afc82768ffea69ec0a2",
            "44c4ec8f7c41438d9e79e4fd138361e6",
            "c7505cd23bf14f2f98e7d83557e8e2f9",
            "ec0b4d325efd48d696ef49c5ddd44673",
            "17326b0fe3a94e63b786a34445ed8e2f",
            "ca07f8ff4e274e86a7d89e871466052f",
            "c23b6fa98b194e418a6f872edc116c5d",
            "bc3bef8e8c114e389b4f128b9efecdd9",
            "33739bcd239743788f8d1697d57064be",
            "f548a0ba98a94fa5811c220a8260665f",
            "e015ce1d01154bb195551cab0c6ce7a4",
            "a7699907187141e4ae50afc5e788d9d3",
            "e41c3b534ca54d35a88a6cd4c49a384e",
            "0e1c3294c0e54bdcb55699fae733a5b8",
            "fbc5e37233294ba49479ffc491d7cff4",
            "b8190b6bfce747e18f8e42d200a09192",
            "378108c530254850abd5f0818902c31c",
            "140f9abb4296433281bcc6abe7d9d9b4",
            "b57f0c08d9c645a59ab0525fdafdfce7",
            "56c6b0cdc17644dc9cd41cba2b9d060f",
            "3f3b3efbbcf840c2984c9398f3d7ade8",
            "b3fd4622d14145eebd094ef9f52b4dea",
            "6fdb5aa9636849a2971f887c10597476",
            "80dfbfe164434106ae6aa2c82c1d116d",
            "4f67d9bada1149ada5aeb01753279de0",
            "467e20f431974f1c96713a1dab33cf21",
            "7fb9dd24eab54ddb890dfff30440732e",
            "59816090c264493fa8871ba7aae0774e",
            "f5b57a84b3c84e16847dcf4387ab1ec9",
            "ca73d9778f8f4b0db96da8e2e1ffb256",
            "4a1ad2c66094496cbb5133ab3d8998ef",
            "c41587a819e645efa25686ae9bbce165",
            "be9151069db94bf7a01c6bfa00c5ce9a",
            "c7de29e038aa49b499bbb0b6d61d7507",
            "10074f297a854842a99000a247e1c5b9",
            "77e2baac2e8844df9ea46a2bee8d847b",
            "a83f0485ba91458295b65c495bb8c91b",
            "87b82104f8404235a6442978df679ff7",
            "814247f559ad4282a0e205e211bd3968",
            "70e38e55533a42e89c0458255612e6fb",
            "090351c8c87241408ad67e4f7544a9e5",
            "61dec34eca91456eb9e0ca2ce99bf27d",
            "eafa53d2cb4844c4a7051302bb114e1a",
            "07bc3de4327d4315b5e1a88bc767aa95",
            "52ee6caff66e4583a013f57d68fc7050",
            "f14a8d74afd449e4b2c3100defca8978",
            "c6b3ad565ac04ba1866855b1bec04e52",
            "75f66b92e3da43d4ae08ebf5a6d6965a",
            "182d27024a9141ebbfd185eb74caf950",
            "8ec087b70d0e419085080b090580abe4",
            "e62d34f97ae2475a9605d61c50158c96",
            "3572bd8cc1cd4beaba78f70bce7bc475",
            "862b7f7cae014692b8e969354f0be34d",
            "7ef5ce0aeb36411394a8b0d1257b4a61",
            "5bf80e9549064324ad7b9e720aee3d63",
            "406642bcfb2b4380aeb13127bb88729f",
            "b74471f90cad43159e2b8ae89e0db799",
            "c0ceb099c0be46509153c661d16607c5",
            "618e1c8525ca48c9b875874c12090cf5",
            "f1bf4ad1364d4622aa3c62b569d02969",
            "46a5c82743a147efa6e4bb06141cd21a",
            "dcb25782ec294b4dabe7b7dabd54133a",
            "d68934db3ad7430ca320dbdafba01561",
            "618202de8fca483b87e5bc008bd3f34f",
            "1365a884990e46728976c822b8853c4a",
            "47d5f91dbf3c4633bbd7ded7201b0d54",
            "0393aaf749c144df9a11931f046d915d",
            "385cf351c0564a6190bbcea91d36b732",
            "0cf1c77e6b4b4dccbb8de7349ee4ba82",
            "91fae096ab7749c4be2750d13e846648",
            "9986bbe61b654f508911bd792851f302",
            "f8139e06d3a74e6994c825ee41d79719",
            "70b760f09a374c199dde17cd43d3f9fd",
            "6e4b142ba4c248ddaaca2483117a90a7",
            "9b2479d7bab5408d930dfb0e8d1c3354",
            "42bcdadf22794540b638c6d3663e91d6"
          ]
        },
        "id": "DH0sw9Fdj-TU",
        "outputId": "cd744fad-637e-4a28-dc50-409991515544"
      },
      "outputs": [
        {
          "name": "stderr",
          "output_type": "stream",
          "text": [
            "<ipython-input-4-c68e2a325111>:4: LangChainDeprecationWarning: The class `HuggingFaceBgeEmbeddings` was deprecated in LangChain 0.2.2 and will be removed in 1.0. An updated version of the class exists in the :class:`~langchain-huggingface package and should be used instead. To use it run `pip install -U :class:`~langchain-huggingface` and import as `from :class:`~langchain_huggingface import HuggingFaceEmbeddings``.\n",
            "  hf_embeddings = HuggingFaceBgeEmbeddings(\n",
            "/usr/local/lib/python3.11/dist-packages/huggingface_hub/utils/_auth.py:94: UserWarning: \n",
            "The secret `HF_TOKEN` does not exist in your Colab secrets.\n",
            "To authenticate with the Hugging Face Hub, create a token in your settings tab (https://huggingface.co/settings/tokens), set it as secret in your Google Colab and restart your session.\n",
            "You will be able to reuse this secret in all of your notebooks.\n",
            "Please note that authentication is recommended but still optional to access public models or datasets.\n",
            "  warnings.warn(\n"
          ]
        },
        {
          "data": {
            "application/vnd.jupyter.widget-view+json": {
              "model_id": "610337d5129c418cb76d3fbb23c63fe6",
              "version_major": 2,
              "version_minor": 0
            },
            "text/plain": [
              "modules.json:   0%|          | 0.00/349 [00:00<?, ?B/s]"
            ]
          },
          "metadata": {},
          "output_type": "display_data"
        },
        {
          "data": {
            "application/vnd.jupyter.widget-view+json": {
              "model_id": "c281e8f460e243eebaaaf60b380b1b2d",
              "version_major": 2,
              "version_minor": 0
            },
            "text/plain": [
              "config_sentence_transformers.json:   0%|          | 0.00/124 [00:00<?, ?B/s]"
            ]
          },
          "metadata": {},
          "output_type": "display_data"
        },
        {
          "data": {
            "application/vnd.jupyter.widget-view+json": {
              "model_id": "5992bc03c7334629ab35aa4043e1b835",
              "version_major": 2,
              "version_minor": 0
            },
            "text/plain": [
              "README.md:   0%|          | 0.00/90.8k [00:00<?, ?B/s]"
            ]
          },
          "metadata": {},
          "output_type": "display_data"
        },
        {
          "data": {
            "application/vnd.jupyter.widget-view+json": {
              "model_id": "72d3b81380784c7ba974348c00c29809",
              "version_major": 2,
              "version_minor": 0
            },
            "text/plain": [
              "sentence_bert_config.json:   0%|          | 0.00/52.0 [00:00<?, ?B/s]"
            ]
          },
          "metadata": {},
          "output_type": "display_data"
        },
        {
          "data": {
            "application/vnd.jupyter.widget-view+json": {
              "model_id": "8443ffb764234743a677a3d8c3af38b2",
              "version_major": 2,
              "version_minor": 0
            },
            "text/plain": [
              "config.json:   0%|          | 0.00/684 [00:00<?, ?B/s]"
            ]
          },
          "metadata": {},
          "output_type": "display_data"
        },
        {
          "data": {
            "application/vnd.jupyter.widget-view+json": {
              "model_id": "e015ce1d01154bb195551cab0c6ce7a4",
              "version_major": 2,
              "version_minor": 0
            },
            "text/plain": [
              "model.safetensors:   0%|          | 0.00/133M [00:00<?, ?B/s]"
            ]
          },
          "metadata": {},
          "output_type": "display_data"
        },
        {
          "data": {
            "application/vnd.jupyter.widget-view+json": {
              "model_id": "b3fd4622d14145eebd094ef9f52b4dea",
              "version_major": 2,
              "version_minor": 0
            },
            "text/plain": [
              "tokenizer_config.json:   0%|          | 0.00/366 [00:00<?, ?B/s]"
            ]
          },
          "metadata": {},
          "output_type": "display_data"
        },
        {
          "data": {
            "application/vnd.jupyter.widget-view+json": {
              "model_id": "be9151069db94bf7a01c6bfa00c5ce9a",
              "version_major": 2,
              "version_minor": 0
            },
            "text/plain": [
              "vocab.txt:   0%|          | 0.00/232k [00:00<?, ?B/s]"
            ]
          },
          "metadata": {},
          "output_type": "display_data"
        },
        {
          "data": {
            "application/vnd.jupyter.widget-view+json": {
              "model_id": "07bc3de4327d4315b5e1a88bc767aa95",
              "version_major": 2,
              "version_minor": 0
            },
            "text/plain": [
              "tokenizer.json:   0%|          | 0.00/711k [00:00<?, ?B/s]"
            ]
          },
          "metadata": {},
          "output_type": "display_data"
        },
        {
          "data": {
            "application/vnd.jupyter.widget-view+json": {
              "model_id": "5bf80e9549064324ad7b9e720aee3d63",
              "version_major": 2,
              "version_minor": 0
            },
            "text/plain": [
              "special_tokens_map.json:   0%|          | 0.00/125 [00:00<?, ?B/s]"
            ]
          },
          "metadata": {},
          "output_type": "display_data"
        },
        {
          "data": {
            "application/vnd.jupyter.widget-view+json": {
              "model_id": "47d5f91dbf3c4633bbd7ded7201b0d54",
              "version_major": 2,
              "version_minor": 0
            },
            "text/plain": [
              "1_Pooling/config.json:   0%|          | 0.00/190 [00:00<?, ?B/s]"
            ]
          },
          "metadata": {},
          "output_type": "display_data"
        }
      ],
      "source": [
        "model_name = \"BAAI/bge-small-en\"\n",
        "model_kwargs = {\"device\": \"cpu\"}\n",
        "encode_kwargs = {\"normalize_embeddings\": True}\n",
        "hf_embeddings = HuggingFaceBgeEmbeddings(\n",
        "    model_name=model_name, model_kwargs=model_kwargs, encode_kwargs=encode_kwargs\n",
        ")"
      ]
    },
    {
      "cell_type": "code",
      "execution_count": 5,
      "metadata": {
        "id": "lHN8QDLzkA--"
      },
      "outputs": [],
      "source": [
        "teacher_prompt=[math_teacher,bio_teacher,physis_teacher,programming_teacher]\n",
        "prompt_embeddings = hf_embeddings.embed_documents(teacher_prompt)\n",
        "\n",
        "\n",
        "llm=ChatGroq(temperature=0)\n",
        "#routing query to prompt\n",
        "def prompt_router(input):\n",
        "    # Embed question\n",
        "    query_embedding = hf_embeddings.embed_query(input[\"query\"])\n",
        "    # Compute similarity\n",
        "    similarity = cosine_similarity([query_embedding], prompt_embeddings)[0]\n",
        "    most_similar = teacher_prompt[similarity.argmax()]\n",
        "    # Chosen prompt\n",
        "    # print(f\"most_similar is: {most_similar}\")\n",
        "    if most_similar==math_teacher:\n",
        "      print(\"math_teacher is here : =>\")\n",
        "    elif most_similar==bio_teacher:\n",
        "      print(\"bio teacher is here=>\")\n",
        "    elif most_similar==physis_teacher:\n",
        "      print(\"physis teacher is here=>\")\n",
        "    else:\n",
        "      print(\"programming teachere is here=>\")\n",
        "\n",
        "\n",
        "    return PromptTemplate.from_template(most_similar)\n"
      ]
    },
    {
      "cell_type": "code",
      "execution_count": 6,
      "metadata": {
        "id": "4yoaQtNKkMOI"
      },
      "outputs": [],
      "source": [
        "chain=(\n",
        "    {\"query\":RunnablePassthrough()}\n",
        "\n",
        "    |RunnableLambda(prompt_router)\n",
        "    |llm\n",
        "    |StrOutputParser()\n",
        ")"
      ]
    },
    {
      "cell_type": "code",
      "execution_count": 8,
      "metadata": {
        "colab": {
          "base_uri": "https://localhost:8080/",
          "height": 105
        },
        "id": "YEQIXkuyl5bC",
        "outputId": "0665a0e1-9e50-448c-813d-20ff2728a6dd"
      },
      "outputs": [
        {
          "name": "stdout",
          "output_type": "stream",
          "text": [
            "math_teacher is here : =>\n"
          ]
        },
        {
          "data": {
            "application/vnd.google.colaboratory.intrinsic+json": {
              "type": "string"
            },
            "text/plain": [
              "'The solution to the problem 2 + 10 is 12.\\n\\nTo solve this problem, you can follow these steps:\\n\\n1. Identify the problem: In this case, the problem is an addition problem with the numbers 2 and 10.\\n2. Perform the addition: To do this, you can add the digits in each number together. In this case, you can add 2 + 10 to get 12.\\n3. Check your work: To check your work, you can double-check the addition to make sure you got the correct answer. In this case, 2 + 10 equals 12, so the answer is correct.\\n\\nI hope this helps! Let me know if you have any other questions.'"
            ]
          },
          "execution_count": 8,
          "metadata": {},
          "output_type": "execute_result"
        }
      ],
      "source": [
        "chain.invoke(\"solve this 2+10\")"
      ]
    },
    {
      "cell_type": "code",
      "execution_count": 9,
      "metadata": {
        "colab": {
          "base_uri": "https://localhost:8080/",
          "height": 87
        },
        "id": "j6ySmaFFl-ES",
        "outputId": "8c9b2754-f365-4d67-c164-14982decfee5"
      },
      "outputs": [
        {
          "name": "stdout",
          "output_type": "stream",
          "text": [
            "bio teacher is here=>\n"
          ]
        },
        {
          "data": {
            "application/vnd.google.colaboratory.intrinsic+json": {
              "type": "string"
            },
            "text/plain": [
              "'Biology is the scientific study of living organisms and their interactions with each other and their environment. It covers various disciplines, including genetics, evolution, cell biology, ecology, and molecular biology. Biologists aim to understand the fundamental principles that govern the functioning of all living systems.'"
            ]
          },
          "execution_count": 9,
          "metadata": {},
          "output_type": "execute_result"
        }
      ],
      "source": [
        "chain.invoke(\"what is biology?\")"
      ]
    },
    {
      "cell_type": "code",
      "execution_count": null,
      "metadata": {
        "id": "cFovMbq51ehz"
      },
      "outputs": [],
      "source": []
    }
  ],
  "metadata": {
    "colab": {
      "provenance": []
    },
    "kernelspec": {
      "display_name": "Python 3",
      "name": "python3"
    },
    "language_info": {
      "name": "python"
    }  
  },
  "nbformat": 4,
  "nbformat_minor": 0
}
